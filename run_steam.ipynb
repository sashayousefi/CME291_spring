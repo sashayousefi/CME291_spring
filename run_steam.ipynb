{
  "cells": [
    {
      "cell_type": "markdown",
      "source": [
        "## Setup"
      ],
      "metadata": {
        "id": "kk5LV0Oqa4Wh"
      }
    },
    {
      "cell_type": "code",
      "execution_count": 5,
      "metadata": {
        "colab": {
          "base_uri": "https://localhost:8080/",
          "height": 278
        },
        "id": "JsWNYmMWjZM2",
        "outputId": "105b00b9-1bd3-48e4-ede2-72b9232ed752",
        "cellView": "form"
      },
      "outputs": [
        {
          "output_type": "stream",
          "name": "stderr",
          "text": [
            "Installing package into ‘/usr/local/lib/R/site-library’\n",
            "(as ‘lib’ is unspecified)\n",
            "\n",
            "Warning message in install.packages(\"BiocManager\"):\n",
            "“installation of package ‘BiocManager’ had non-zero exit status”\n"
          ]
        },
        {
          "output_type": "error",
          "ename": "ERROR",
          "evalue": "ignored",
          "traceback": [
            "Error in loadNamespace(x): there is no package called ‘BiocManager’\nTraceback:\n",
            "1. loadNamespace(x)",
            "2. withRestarts(stop(cond), retry_loadNamespace = function() NULL)",
            "3. withOneRestart(expr, restarts[[1L]])",
            "4. doWithOneRestart(return(expr), restart)"
          ]
        }
      ],
      "source": [
        "#@title Downloading Libraries\n",
        "#install.packages(\"data.table\")\n",
        "\n",
        "if (!require(\"BiocManager\", quietly = TRUE))\n",
        "    install.packages(\"BiocManager\")\n",
        "\n",
        "BiocManager::install(\"SNPRelate\")\n",
        "\n",
        "install.packages(\"bootstrap\")\n",
        "library(bootstrap)\n",
        "library(data.table)\n",
        "library(utils)\n",
        "library(stats)\n",
        "library(SeqArray)\n",
        "library(SNPRelate)\n",
        "library(bootstrap)\n",
        "\n",
        "install.packages(\"nlsr\")\n",
        "library(nlsr)"
      ]
    },
    {
      "cell_type": "markdown",
      "source": [
        "## GET CORR for 6 ancestries"
      ],
      "metadata": {
        "id": "74jlWDcoej8r"
      }
    },
    {
      "cell_type": "code",
      "execution_count": 8,
      "metadata": {
        "collapsed": true,
        "id": "8-CAzGI-jZM7"
      },
      "outputs": [],
      "source": [
        "#altered by Sasha and Jessica to include 6 ancestries \n",
        "\n",
        "# extract object from .RData file\n",
        "get_obj <- function(Rdata){\n",
        "  objname <- load(Rdata)\n",
        "  if (length(objname) > 1) {\n",
        "    warning(paste(\"Multiple objects stored in file\", Rdata,\n",
        "                  \"\\nReturning only the first object\"))\n",
        "  }\n",
        "  return(get(objname))\n",
        "}\n",
        "\n",
        "# convert genetic distance into recombination fraction\n",
        "L_to_theta <- function(cM){\n",
        "  L <- cM/100\n",
        "  theta <- 0.5*(1-exp(-2*L))\n",
        "  return(theta)\n",
        "}\n",
        "\n",
        "# function to get distance between pairs of SNPs\n",
        "get_dist <- function(s1, s2, gen.map){\n",
        "  pos1 <- gen.map$cM[match(s1, gen.map$snp.id)]\n",
        "  pos2 <- gen.map$cM[match(s2, gen.map$snp.id)]\n",
        "  return(abs(pos2-pos1))\n",
        "}\n",
        "\n",
        "# get correlation for one pair of SNPs\n",
        "get_corr <- function(s1, s2, eas, eur_was, nat, oce, sas, afr){\n",
        "  # load ancestries at SNPs s1 and s2\n",
        "  eas.anc <- snpgdsGetGeno(eas, snp.id = c(s1,s2), with.id = TRUE, verbose=F)\n",
        "  eur_was.anc <- snpgdsGetGeno(eur_was, snp.id = c(s1,s2), with.id = TRUE, verbose=F)\n",
        "  nat.anc <- snpgdsGetGeno(nat, snp.id = c(s1,s2), with.id = TRUE, verbose=F)\n",
        "  oce.anc <- snpgdsGetGeno(oce, snp.id = c(s1,s2), with.id = TRUE, verbose=F)\n",
        "  sas.anc <- snpgdsGetGeno(sas, snp.id = c(s1,s2), with.id = TRUE, verbose=F)\n",
        "  afr.anc <- snpgdsGetGeno(afr, snp.id = c(s1,s2), with.id = TRUE, verbose=F)\n",
        "  # get indices for each SNP (make sure they're in order we expected)\n",
        "  ea1 <- which(eas.anc$snp.id==s1); ea2 <- which(eas.anc$snp.id == s2)\n",
        "  eu1 <- which(eur_was.anc$snp.id==s1); eu2 <- which(eur_was.anc$snp.id == s2)\n",
        "  n1 <- which(nat.anc$snp.id==s1); n2 <- which(nat.anc$snp.id == s2)\n",
        "  o1 <- which(oce.anc$snp.id==s1); o2 <- which(oce.anc$snp.id == s2)\n",
        "  sa1 <- which(sas.anc$snp.id==s1); sa2 <- which(sas.anc$snp.id == s2)\n",
        "  a1 <- which(afr.anc$snp.id==s1); a2 <- which(afr.anc$snp.id == s2)\n",
        "\n",
        "  # get correlation between all possible pairs of ancestries\n",
        "  c11 <- cor(eas.anc$g[,ea1], eas.anc$g[,ea2])\n",
        "  c12 <- cor(eas.anc$g[,ea1], eur_was.anc$g[,eu2])\n",
        "  c13 <- cor(eas.anc$g[,ea1], nat.anc$g[,n2])\n",
        "  c14 <- cor(eas.anc$g[,ea1], oce.anc$g[,o2])\n",
        "  c15 <- cor(eas.anc$g[,ea1], sas.anc$g[,sa2])\n",
        "  c16 <- cor(eas.anc$g[,ea1], afr.anc$g[,a2])\n",
        "    \n",
        "  c21 <- cor(eur_was.anc$g[,eu1], eas.anc$g[,ea2])\n",
        "  c22 <- cor(eur_was.anc$g[,eu1], eur_was.anc$g[,eu2])\n",
        "  c23 <- cor(eur_was.anc$g[,eu1], nat.anc$g[,n2])\n",
        "  c24 <- cor(eur_was.anc$g[,eu1], oce.anc$g[,o2])\n",
        "  c25 <- cor(eur_was.anc$g[,eu1], sas.anc$g[,sa2])\n",
        "  c26 <- cor(eur_was.anc$g[,eu1], afr.anc$g[,a2])\n",
        "    \n",
        "  c31 <- cor(nat.anc$g[,n1], eas.anc$g[,ea2])\n",
        "  c32 <- cor(nat.anc$g[,n1], eur_was.anc$g[,eu2])\n",
        "  c33 <- cor(nat.anc$g[,n1], nat.anc$g[,n2])\n",
        "  c34 <- cor(nat.anc$g[,n1], oce.anc$g[,o2])\n",
        "  c35 <- cor(nat.anc$g[,n1], sas.anc$g[,sa2])\n",
        "  c36 <- cor(nat.anc$g[,n1], afr.anc$g[,a2])\n",
        "    \n",
        "  c41 <- cor(oce.anc$g[,o1], eas.anc$g[,ea2])\n",
        "  c42 <- cor(oce.anc$g[,o1], eur_was.anc$g[,eu2])\n",
        "  c43 <- cor(oce.anc$g[,o1], nat.anc$g[,n2])\n",
        "  c44 <- cor(oce.anc$g[,o1], oce.anc$g[,o2])\n",
        "  c45 <- cor(oce.anc$g[,o1], sas.anc$g[,sa2])\n",
        "  c46 <- cor(oce.anc$g[,o1], afr.anc$g[,a2])\n",
        "    \n",
        "  c51 <- cor(sas.anc$g[,sa1], eas.anc$g[,ea2])\n",
        "  c52 <- cor(sas.anc$g[,sa1], eur_was.anc$g[,eu2])\n",
        "  c53 <- cor(sas.anc$g[,sa1], nat.anc$g[,n2])\n",
        "  c54 <- cor(sas.anc$g[,sa1], oce.anc$g[,o2])\n",
        "  c55 <- cor(sas.anc$g[,sa1], sas.anc$g[,sa2])\n",
        "  c56 <- cor(sas.anc$g[,sa1], afr.anc$g[,a2])\n",
        "    \n",
        "  c61 <- cor(afr.anc$g[,a1], eas.anc$g[,ea2])\n",
        "  c62 <- cor(afr.anc$g[,a1], eur_was.anc$g[,eu2])\n",
        "  c63 <- cor(afr.anc$g[,a1], nat.anc$g[,n2])\n",
        "  c64 <- cor(afr.anc$g[,a1], oce.anc$g[,o2])\n",
        "  c65 <- cor(afr.anc$g[,a1], sas.anc$g[,sa2])\n",
        "  c66 <- cor(afr.anc$g[,a1], afr.anc$g[,a2])\n",
        "    \n",
        "    \n",
        "  return(c(c11,c12,c13,c14,c15,c16,\n",
        "           c21,c22,c23,c24,c25,c26,\n",
        "           c31,c32,c33,c34,c35,c36,\n",
        "           c41,c42,c43,c44,c45,c46,\n",
        "           c51,c52,c53,c54,c55,c56,\n",
        "           c61,c62,c63,c64,c65,c66))\n",
        "}"
      ]
    },
    {
      "cell_type": "code",
      "execution_count": 10,
      "metadata": {
        "collapsed": true,
        "tags": [],
        "id": "oBD7usL6jZM9"
      },
      "outputs": [],
      "source": [
        "#altered by Sasha and Jessica to include 6 ancestries \n",
        "\n",
        "#' Calculate Correlation in Local Ancestry (K = 3)\n",
        "#'\n",
        "#' Calculate the correlation of local ancestry vectors\n",
        "#' for a single chromosome. Code is currently only applicable to\n",
        "#' admixed populations with three ancestral populations.\n",
        "#'\n",
        "#' @param chrom chromosome number that you are analyzing\n",
        "#' @param binsize size (in cM) of distance bins for calculating correlation; default = 0.5 cM\n",
        "#' @param map map file; data frame with, at minimum, columns 'chr' and 'cM'\n",
        "#' @param pop1.gds name of GDS file storing local ancestry calls for chrom of interest, with alleles coded as 1 = pop 1 ancestry, 0 = pop 2 or 3\n",
        "#' @param pop2.gds name of GDS file storing local ancestry calls for chrom of interest, with alleles coded as 1 = pop 2 ancestry, 0 = pop 1 or 3\n",
        "#' @param pop3.gds name of GDS file storing local ancestry calls for chrom of interest, with alleles coded as 1 = pop 3 ancestry, 0 = pop 1 or 2\n",
        "#' @param verbose do you want to print updates to screen; default = TRUE\n",
        "#'\n",
        "#'\n",
        "#' @return A data table with the observed correlation in local ancestry vectors for a subset of loci on this chromosome.\n",
        "#'\n",
        "#' @import data.table gdsfmt SeqArray SNPRelate\n",
        "#'\n",
        "#' @importFrom utils combn\n",
        "#'\n",
        "#' @importFrom stats cor\n",
        "#'\n",
        "#' @seealso \\code{\\link[STEAM]{get_g}} and \\code{\\link[STEAM]{combine_corr_chr}}\n",
        "#'\n",
        "#' @export\n",
        "get_corr_chr <- function(chrom, binsize = 0.5, map, pop1.gds, pop2.gds, pop3.gds, pop4.gds, pop5.gds, pop6.gds, verbose = TRUE){\n",
        "  ## restrict map to chrom of interest\n",
        "  map.df <- subset(map, chr == chrom)\n",
        "\n",
        "  # list all possible pairs of loci\n",
        "  if(is.null(map.df$snp.id)) map.df$snp.id <- 1:(nrow(map.df))\n",
        "  snps.pairs <- combn(map.df$snp.id, 2)\n",
        "\n",
        "  # store as data table\n",
        "  snps.dt <- data.table(t(snps.pairs))\n",
        "  names(snps.dt) <- c('snp1','snp2')\n",
        "\n",
        "  # add distances between pairs of SNPs\n",
        "  snps.dt[, cM := get_dist(snp1,snp2,map.df)] # genetic distance bt SNPs\n",
        "  snps.dt[, theta := L_to_theta(cM)] # recombination fraction bt SNPs\n",
        "\n",
        "  # figure out which distance bin each pair is in\n",
        "  snps.dt[, bin := round(cM/binsize, 0) * binsize]\n",
        "\n",
        "  # keep 20 random pairs of SNPs per bin (or keep all pairs if < 20 in bin)\n",
        "  snps.dt[, pair := paste0(snp1,'_',snp2)]\n",
        "  selected <- snps.dt[, .(sample(pair, size = min(20, .N), replace = FALSE)),\n",
        "                      by = .(bin)]\n",
        "  snps.dt <- snps.dt[pair %in% selected$V1]\n",
        "  snps.dt$pair <- NULL # remove pair info\n",
        "\n",
        "  ## open GDS files\n",
        "  pop1 <- seqOpen(pop1.gds, allow.duplicate=TRUE)\n",
        "  pop2 <- seqOpen(pop2.gds, allow.duplicate=TRUE)\n",
        "  pop3 <- seqOpen(pop3.gds, allow.duplicate=TRUE)\n",
        "  pop4 <- seqOpen(pop4.gds, allow.duplicate=TRUE)\n",
        "  pop5 <- seqOpen(pop5.gds, allow.duplicate=TRUE)\n",
        "  pop6 <- seqOpen(pop6.gds, allow.duplicate=TRUE) \n",
        "      \n",
        "\n",
        "  # set up correlation columns to store correlations\n",
        "  snps.dt$corr_11 <- NA\n",
        "  snps.dt$corr_12 <- NA\n",
        "  snps.dt$corr_13 <- NA\n",
        "  snps.dt$corr_14 <- NA\n",
        "  snps.dt$corr_15 <- NA\n",
        "  snps.dt$corr_16 <- NA\n",
        "  snps.dt$corr_21 <- NA\n",
        "  snps.dt$corr_22 <- NA\n",
        "  snps.dt$corr_23 <- NA\n",
        "  snps.dt$corr_24 <- NA\n",
        "  snps.dt$corr_25 <- NA\n",
        "  snps.dt$corr_26 <- NA\n",
        "  snps.dt$corr_31 <- NA\n",
        "  snps.dt$corr_32 <- NA\n",
        "  snps.dt$corr_33 <- NA\n",
        "  snps.dt$corr_34 <- NA\n",
        "  snps.dt$corr_35 <- NA \n",
        "  snps.dt$corr_36 <- NA\n",
        "  snps.dt$corr_41 <- NA\n",
        "  snps.dt$corr_42 <- NA\n",
        "  snps.dt$corr_43 <- NA\n",
        "  snps.dt$corr_44 <- NA\n",
        "  snps.dt$corr_45 <- NA  \n",
        "  snps.dt$corr_46 <- NA \n",
        "  snps.dt$corr_51 <- NA\n",
        "  snps.dt$corr_52 <- NA\n",
        "  snps.dt$corr_53 <- NA\n",
        "  snps.dt$corr_54 <- NA\n",
        "  snps.dt$corr_55 <- NA\n",
        "  snps.dt$corr_56 <- NA\n",
        "  snps.dt$corr_61 <- NA\n",
        "  snps.dt$corr_62 <- NA\n",
        "  snps.dt$corr_63 <- NA\n",
        "  snps.dt$corr_64 <- NA\n",
        "  snps.dt$corr_65 <- NA\n",
        "  snps.dt$corr_66 <- NA\n",
        "      \n",
        "\n",
        "  # loop through pairs to get correlation\n",
        "  for(i in 1:nrow(snps.dt)){\n",
        "    # get snp names\n",
        "    snp1.i <- snps.dt$snp1[i]\n",
        "    snp2.i <- snps.dt$snp2[i]\n",
        "    # get correlations\n",
        "    corr.i <- get_corr(snp1.i, snp2.i, eas = pop1, eur_was = pop2, nat = pop3, oce = pop4, sas = pop5, afr = pop6)\n",
        "    snps.dt$corr_11[i] <- corr.i[1]\n",
        "    snps.dt$corr_12[i] <- corr.i[2]\n",
        "    snps.dt$corr_13[i] <- corr.i[3]\n",
        "    snps.dt$corr_14[i] <- corr.i[4]\n",
        "    snps.dt$corr_15[i] <- corr.i[5]\n",
        "    snps.dt$corr_16[i] <- corr.i[6]\n",
        "    snps.dt$corr_21[i] <- corr.i[7]\n",
        "    snps.dt$corr_22[i] <- corr.i[8]\n",
        "    snps.dt$corr_23[i] <- corr.i[9]\n",
        "    snps.dt$corr_24[i] <- corr.i[10]\n",
        "    snps.dt$corr_25[i] <- corr.i[11]\n",
        "    snps.dt$corr_26[i] <- corr.i[12]\n",
        "    snps.dt$corr_31[i] <- corr.i[13]\n",
        "    snps.dt$corr_32[i] <- corr.i[14]\n",
        "    snps.dt$corr_33[i] <- corr.i[15]\n",
        "    snps.dt$corr_34[i] <- corr.i[16]\n",
        "    snps.dt$corr_35[i] <- corr.i[17]\n",
        "    snps.dt$corr_36[i] <- corr.i[18]\n",
        "    snps.dt$corr_41[i] <- corr.i[19]\n",
        "    snps.dt$corr_42[i] <- corr.i[20]\n",
        "    snps.dt$corr_43[i] <- corr.i[21]\n",
        "    snps.dt$corr_44[i] <- corr.i[22]\n",
        "    snps.dt$corr_45[i] <- corr.i[23]\n",
        "    snps.dt$corr_46[i] <- corr.i[24]\n",
        "    snps.dt$corr_51[i] <- corr.i[25]\n",
        "    snps.dt$corr_52[i] <- corr.i[26]\n",
        "    snps.dt$corr_53[i] <- corr.i[27]\n",
        "    snps.dt$corr_54[i] <- corr.i[28]\n",
        "    snps.dt$corr_55[i] <- corr.i[29]\n",
        "    snps.dt$corr_56[i] <- corr.i[30]\n",
        "    snps.dt$corr_61[i] <- corr.i[31]\n",
        "    snps.dt$corr_62[i] <- corr.i[32]\n",
        "    snps.dt$corr_63[i] <- corr.i[33]\n",
        "    snps.dt$corr_64[i] <- corr.i[34]\n",
        "    snps.dt$corr_65[i] <- corr.i[35]\n",
        "    snps.dt$corr_66[i] <- corr.i[36]\n",
        "    # progress report\n",
        "    if(i %% 100 == 0 & verbose == TRUE) cat('Done with rep',i,'of',nrow(snps.dt),'\\n')\n",
        "  }\n",
        "\n",
        "  # close gds files\n",
        "  seqClose(pop1); seqClose(pop2); seqClose(pop3); seqClose(pop4); seqClose(pop5)\n",
        "\n",
        "  # return data table with correlation\n",
        "  return(snps.dt)\n",
        "\n",
        "}"
      ]
    },
    {
      "cell_type": "code",
      "execution_count": 12,
      "metadata": {
        "scrolled": false,
        "id": "7cwbILmqjZM-",
        "colab": {
          "base_uri": "https://localhost:8080/",
          "height": 189
        },
        "outputId": "83a0f2b0-328f-4311-9c5d-c1c3d22cf110"
      },
      "outputs": [
        {
          "output_type": "stream",
          "name": "stderr",
          "text": [
            "Warning message in file(file, \"rt\"):\n",
            "“cannot open file 'map_file.tsv': No such file or directory”\n"
          ]
        },
        {
          "output_type": "error",
          "ename": "ERROR",
          "evalue": "ignored",
          "traceback": [
            "Error in file(file, \"rt\"): cannot open the connection\nTraceback:\n",
            "1. read.table(file = \"map_file.tsv\", sep = \"\\t\", header = TRUE)",
            "2. file(file, \"rt\")"
          ]
        }
      ],
      "source": [
        "#altered by Sasha and Jessica to include 6 ancestries \n",
        "example_map <- read.table(file = 'map_file.tsv', sep = '\\t', header = TRUE)\n",
        "\n",
        "# set up list to store results\n",
        "corr.list <- list()\n",
        "\n",
        "# loop through chromosomes\n",
        "# NOTE: we recommend that each chromosome be analyzed separately (e.g., on distinct compute nodes) and results saved, then combined later, rather than analyzing all chromosomes in a single R session\n",
        "for(i in 1:22){\n",
        "  eas.gds <- paste0('gds_files_with_oce/covid_ref_chr', i, '_ancestry', 1, '_rfmix.gds')\n",
        "  eur_was.gds <- paste0('gds_files_with_oce/covid_ref_chr', i, '_ancestry', 2, '_rfmix.gds')\n",
        "  nat.gds <- paste0('gds_files_with_oce/covid_ref_chr', i, '_ancestry', 3, '_rfmix.gds')\n",
        "  oce.gds <- paste0('gds_files_with_oce/covid_ref_chr', i, '_ancestry', 4, '_rfmix.gds')\n",
        "  sas.gds <- paste0('gds_files_with_oce/covid_ref_chr', i, '_ancestry', 5, '_rfmix.gds')\n",
        "  afr.gds <- paste0('gds_files_with_oce/covid_ref_chr', i, '_ancestry', 0, '_rfmix.gds')\n",
        "  # run get_corr_chr\n",
        "  corr.list[[i]] <- get_corr_chr(chrom = i, map = example_map, \n",
        "        pop1.gds = eas.gds, pop2.gds = eur_was.gds, pop3.gds = nat.gds, pop4.gds = oce.gds, pop5 = sas.gds, pop6=afr.gds)\n",
        "    message(paste0(\"done with chromosome \", i))\n",
        "  cat('done with chromosome', i, '\\n')\n",
        "}"
      ]
    },
    {
      "cell_type": "code",
      "execution_count": 13,
      "metadata": {
        "jupyter": {
          "outputs_hidden": true
        },
        "id": "XoOb8ZiTjZM_"
      },
      "outputs": [],
      "source": [
        "#altered by Sasha and Jessica to include 6 ancestries \n",
        "\n",
        "#' Calculate Correlation in Local Ancestry (K = 3)\n",
        "#'\n",
        "#' Create single data frame with average correlation of local ancestry\n",
        "#' for pairs of SNPs varying distances apart. Combines data for each chromosome\n",
        "#' generated by get_corr_chr(). Code is currently applicable\n",
        "#' only to admixed populations with three ancestral populations.\n",
        "#'\n",
        "#' @param cor.list list of data tables, one per chromosome, generated by get_corr_chr().\n",
        "#'\n",
        "#' @return A data table with the average correlation in local ancestry, to be used for estimating the number of generations since admixture using \\code{\\link[STEAM]{get_g}}.\n",
        "#'\n",
        "#' @import data.table\n",
        "#'\n",
        "#' @importFrom stats reshape\n",
        "#'\n",
        "#' @seealso \\code{\\link[STEAM]{get_g}} and \\code{\\link[STEAM]{get_corr_chr}}\n",
        "#'\n",
        "#' @export\n",
        "combine_corr_chr <- function(cor.list){\n",
        "  # combine into single data table\n",
        "  snps.df <- rbindlist(cor.list)\n",
        "\n",
        "  # get average within each bin\n",
        "  avgs <- snps.df[,.(mean(corr_11),mean(corr_12),mean(corr_13),mean(corr_14), mean(corr_15), mean(corr_16),\n",
        "                     mean(corr_21),mean(corr_22),mean(corr_23),mean(corr_24), mean(corr_25), mean(corr_26),\n",
        "                     mean(corr_31),mean(corr_32),mean(corr_33),mean(corr_34), mean(corr_35), mean(corr_36),\n",
        "                     mean(corr_41),mean(corr_42),mean(corr_43),mean(corr_44), mean(corr_45), mean(corr_46),\n",
        "                     mean(corr_51),mean(corr_52),mean(corr_53),mean(corr_54), mean(corr_55), mean(corr_56),\n",
        "                     mean(corr_61),mean(corr_62),mean(corr_63),mean(corr_64), mean(corr_65), mean(corr_66),\n",
        "                     ), by = .(bin)]\n",
        "  avgs[,('theta') := L_to_theta(bin)] # add recomb fraction back on\n",
        "\n",
        "  # add col names\n",
        "  names(avgs) <- c('cM',\n",
        "                   'corr_11','corr_12','corr_13','corr_14', 'corr_15', 'corr_16',\n",
        "                   'corr_21','corr_22','corr_23','corr_24', 'corr_25', 'corr_26',\n",
        "                   'corr_31','corr_32','corr_33','corr_34', 'corr_35', 'corr_36',\n",
        "                   'corr_41','corr_42','corr_43','corr_44', 'corr_45', 'corr_46',\n",
        "                   'corr_51','corr_52','corr_53','corr_54', 'corr_55', 'corr_56',\n",
        "                   'corr_61','corr_62','corr_63','corr_64', 'corr_65', 'corr_66',\n",
        "                   'theta')\n",
        "\n",
        "  # convert from wide to long\n",
        "  avgs.long <- reshape(avgs, direction = 'long', varying = list(2:26),\n",
        "                       v.names = 'corr', idvar = 'bin', timevar = 'anc',\n",
        "                       times = c('1_1','1_2','1_3','1_4','1_5','1_6',\n",
        "                                 '2_1','2_2','2_3','2_4','2_5','2_6',\n",
        "                                 '3_1','3_2','3_3','3_4','3_5','3_6',\n",
        "                                 '4_1','4_2','4_3','4_4','4_5','4_6',\n",
        "                                 '5_1','5_2','5_3','5_4','5_5','5_6',\n",
        "                                 '6_1','6_2','6_3','6_4','6_5','6_6'))\n",
        "\n",
        "  avgs.long$anc2 <- avgs.long$anc\n",
        "  avgs.long$anc2[avgs.long$anc2=='2_1'] <- '1_2'\n",
        "  avgs.long$anc2[avgs.long$anc2=='3_1'] <- '1_3'\n",
        "  avgs.long$anc2[avgs.long$anc2=='3_2'] <- '2_3'\n",
        "  avgs.long$anc2[avgs.long$anc2=='4_1'] <- '1_4'\n",
        "  avgs.long$anc2[avgs.long$anc2=='4_2'] <- '2_4'\n",
        "  avgs.long$anc2[avgs.long$anc2=='4_3'] <- '3_4'  \n",
        "  avgs.long$anc2[avgs.long$anc2=='5_1'] <- '1_5'\n",
        "  avgs.long$anc2[avgs.long$anc2=='5_2'] <- '2_5' \n",
        "  avgs.long$anc2[avgs.long$anc2=='5_3'] <- '3_5'\n",
        "  avgs.long$anc2[avgs.long$anc2=='5_4'] <- '4_5'\n",
        "  avgs.long$anc2[avgs.long$anc2=='6_1'] <- '1_6'  \n",
        "  avgs.long$anc2[avgs.long$anc2=='6_2'] <- '2_6'  \n",
        "  avgs.long$anc2[avgs.long$anc2=='6_3'] <- '3_6'    \n",
        "  avgs.long$anc2[avgs.long$anc2=='6_4'] <- '4_6' \n",
        "  avgs.long$anc2[avgs.long$anc2=='6_5'] <- '5_6' \n",
        "\n",
        "  # save final results as data frame\n",
        "  lacorr.df <- as.data.frame(avgs.long)\n",
        "  lacorr.df <- lacorr.df[,c('theta','corr','anc2')]\n",
        "  names(lacorr.df) <- c('theta','corr','anc')\n",
        "  return(lacorr.df)\n",
        "}"
      ]
    },
    {
      "cell_type": "code",
      "execution_count": 14,
      "metadata": {
        "id": "cJE8uKDujZNA",
        "colab": {
          "base_uri": "https://localhost:8080/",
          "height": 135
        },
        "outputId": "29a8e842-bbd8-4e52-94c6-7a90fa7ba65a"
      },
      "outputs": [
        {
          "output_type": "error",
          "ename": "ERROR",
          "evalue": "ignored",
          "traceback": [
            "Error in rbindlist(cor.list): could not find function \"rbindlist\"\nTraceback:\n",
            "1. combine_corr_chr(corr.list)"
          ]
        }
      ],
      "source": [
        "corr_K3 <- combine_corr_chr(corr.list)"
      ]
    },
    {
      "cell_type": "code",
      "execution_count": 15,
      "metadata": {
        "scrolled": true,
        "id": "V6ZRvVdojZNA",
        "outputId": "d23f96f9-027e-49db-ec79-1487334a338e",
        "colab": {
          "base_uri": "https://localhost:8080/",
          "height": 99
        }
      },
      "outputs": [
        {
          "output_type": "error",
          "ename": "ERROR",
          "evalue": "ignored",
          "traceback": [
            "Error in eval(expr, envir, enclos): object 'corr_K3' not found\nTraceback:\n"
          ]
        }
      ],
      "source": [
        "corr_K3"
      ]
    },
    {
      "cell_type": "markdown",
      "source": [
        "##RUNNING NLS"
      ],
      "metadata": {
        "id": "nVyLhnR4e2sH"
      }
    },
    {
      "cell_type": "code",
      "execution_count": null,
      "metadata": {
        "id": "JeqvM_rAjZNB"
      },
      "outputs": [],
      "source": [
        "#altered by Sasha and Jessica (NLXB)\n",
        "\n",
        "#' Run Unconstrained NLS Regression\n",
        "#'\n",
        "#' Estimate the number of generations since admixture (g) from the\n",
        "#' observed local ancestry correlation curves using non-linear\n",
        "#' least squares regression. More details in Grinde et al. (TBD).\n",
        "#'\n",
        "#' @param lacorr local ancestry correlation; data frame with 3 columns: theta = recomb frac; corr = correlation; anc = ancestry components (e.g., 1_1, 1_2, 1_3, 2_2, 2_3, 3_3)\n",
        "#' @param k1,k2 ancestry component indices (number between 1 and K)\n",
        "#' @param start.a starting value for intercept; default = 0\n",
        "#' @param start.b starting value for slope; default = 1\n",
        "#' @param start.g starting value for g; default = 10\n",
        "#'\n",
        "#' @return A single number indicating the estimated number of generations since admixture.\n",
        "#'\n",
        "#' @examples\n",
        "#' run_unc_nls(lacorr = example_corr, k1 = 1, k2 = 1)\n",
        "#' run_unc_nls(lacorr = example_corr, k1 = 1, k2 = 2)\n",
        "#'\n",
        "#' @importFrom stats nls\n",
        "#'\n",
        "#' @export\n",
        "run_unc_nls <- function(lacorr, k1, k2, start.a = 0, start.b = 1, start.g = 10){\n",
        "  # get name of ancestry pair\n",
        "  a.pair <- paste(sort(c(k1,k2),decreasing=F),collapse='_')\n",
        "  # run NLS\n",
        "  mod <- eval(nlxb(corr ~ a + b*(1-theta)^g,\n",
        "                                data = subset(lacorr,anc==a.pair), \n",
        "                                start = c(a = start.a, b = start.b, g = start.g),\n",
        "                                lower = c(a = -Inf, b = -Inf, g = 2),\n",
        "                                upper = c(a = Inf, b = Inf, g = 25)))\n",
        "                                #control = list(maxiter = 10000, tolerance = 1e-5, minFactor = 0)))\n",
        "\n",
        "  # return model\n",
        "  return(mod)\n",
        "}"
      ]
    },
    {
      "cell_type": "code",
      "execution_count": null,
      "metadata": {
        "id": "phYmhlaQjZNB"
      },
      "outputs": [],
      "source": [
        "#altered by Sasha and Jessica (NLXB)\n",
        "\n",
        "#' Estimate Number of Generations since Admixture\n",
        "#'\n",
        "#' Estimate the number of generations since admixture (g) from the\n",
        "#' observed local ancestry correlation curves using non-linear\n",
        "#' least squares regression. More details in Grinde et al. (TBD).\n",
        "#'\n",
        "#' @param lacorr local ancestry correlation; data frame with 3 columns: theta = recomb frac; corr = correlation; anc = ancestry components (e.g., 1_1, 1_2, 1_3, 2_2, 2_3, 3_3)\n",
        "#' @param start.a starting value for intercept; default = 0\n",
        "#' @param start.b starting value for slope; default = 1\n",
        "#' @param start.g starting value for g; default = 10\n",
        "#'\n",
        "#' @return A single number indicating the estimated number of generations since admixture.\n",
        "#'\n",
        "#' @examples\n",
        "#' get_g(lacorr = example_corr)\n",
        "#' get_g(lacorr = example_corr_K3)\n",
        "#'\n",
        "#' @importFrom stats nls coef\n",
        "#'\n",
        "#' @export\n",
        "get_g <- function(lacorr, start.a = 0, start.b = 1, start.g = 10){\n",
        "    # get ancestry pairs from lacorr\n",
        "    anc.pairs.vec <- as.character(unique(lacorr$anc))\n",
        "    anc.pairs.list <- strsplit(anc.pairs.vec,'_')\n",
        "    ap1 <- unlist(lapply(anc.pairs.list,function(x) x[1]))\n",
        "    ap2 <- unlist(lapply(anc.pairs.list,function(x) x[2]))\n",
        "    anc.pairs <- data.frame(X1=ap1,X2=ap2)\n",
        "    # run on each ancestry pair to get individual slopes/intercepts\n",
        "    ab <- list()\n",
        "    for(i in 1:nrow(anc.pairs)){\n",
        "      a1 <- anc.pairs[i,1]; a2 <- anc.pairs[i,2]\n",
        "      ab[[i]] <- coef(run_unc_nls(lacorr,a1,a2,start.a,start.b,start.g))[1:2]\n",
        "    }\n",
        "    names(ab) <- paste(anc.pairs[,1],anc.pairs[,2],sep='_')\n",
        "    # add newly estimated constants to data frame\n",
        "    true_ab <- sapply(lacorr$anc, function(x) ab[[x]])\n",
        "    lacorr$a <- true_ab[1,]\n",
        "    lacorr$b <- true_ab[2,]\n",
        "    # run NLS\n",
        "    mod <- eval(nlxb(corr ~ a + b*(1-theta)^g,\n",
        "                                data = lacorr, \n",
        "                                start = c(g = start.g),\n",
        "                                lower = c(g = 2),\n",
        "                                upper = c(g = 25)))\n",
        "    # return g\n",
        "    g <- coef(mod)\n",
        "    return(g)\n",
        "}"
      ]
    },
    {
      "cell_type": "markdown",
      "source": [
        "example get corr"
      ],
      "metadata": {
        "id": "f2p2wK0KgAQ2"
      }
    },
    {
      "cell_type": "code",
      "source": [
        "load(\"corr_K6_0.rda\") #african"
      ],
      "metadata": {
        "id": "7U7hH3zIP6wp"
      },
      "execution_count": null,
      "outputs": []
    },
    {
      "cell_type": "code",
      "execution_count": null,
      "metadata": {
        "collapsed": true,
        "id": "7IAiVqjBjZNC"
      },
      "outputs": [],
      "source": [
        "load(\"corr_K6_1.rda\") #EastAsian"
      ]
    },
    {
      "cell_type": "code",
      "source": [
        "load(\"corr_K6_2.rda\") #European"
      ],
      "metadata": {
        "id": "l6L8wdRU5KT2"
      },
      "execution_count": null,
      "outputs": []
    },
    {
      "cell_type": "code",
      "source": [
        "load(\"corr_K6_5.rda\")"
      ],
      "metadata": {
        "id": "muBg8Gdl5ob_"
      },
      "execution_count": null,
      "outputs": []
    },
    {
      "cell_type": "code",
      "source": [
        "get_g(corr_K6_0) #african\n",
        "get_g(corr_K6_1) #EastAsian\n",
        "get_g(corr_K6_2) #European\n",
        "get_g(corr_K6_3) #NATIVE AMERICAN \n",
        "get_g(corr_K6_4) #OCEANIC\n",
        "get_g(corr_K6_5) #SOUTH ASIAN"
      ],
      "metadata": {
        "colab": {
          "base_uri": "https://localhost:8080/",
          "height": 121
        },
        "id": "7HgBMBu7ml9_",
        "outputId": "658750ca-5d15-4ca0-dc52-e5a2c995f132"
      },
      "execution_count": null,
      "outputs": [
        {
          "output_type": "display_data",
          "data": {
            "text/html": [
              "<strong>g:</strong> 11.8544748989489"
            ],
            "text/markdown": "**g:** 11.8544748989489",
            "text/latex": "\\textbf{g:} 11.8544748989489",
            "text/plain": [
              "       g \n",
              "11.85447 \n",
              "attr(,\"pkgname\")\n",
              "[1] \"nlsr\""
            ]
          },
          "metadata": {}
        },
        {
          "output_type": "display_data",
          "data": {
            "text/html": [
              "<strong>g:</strong> 12.3560136446421"
            ],
            "text/markdown": "**g:** 12.3560136446421",
            "text/latex": "\\textbf{g:} 12.3560136446421",
            "text/plain": [
              "       g \n",
              "12.35601 \n",
              "attr(,\"pkgname\")\n",
              "[1] \"nlsr\""
            ]
          },
          "metadata": {}
        },
        {
          "output_type": "display_data",
          "data": {
            "text/html": [
              "<strong>g:</strong> 10.7720488583112"
            ],
            "text/markdown": "**g:** 10.7720488583112",
            "text/latex": "\\textbf{g:} 10.7720488583112",
            "text/plain": [
              "       g \n",
              "10.77205 \n",
              "attr(,\"pkgname\")\n",
              "[1] \"nlsr\""
            ]
          },
          "metadata": {}
        },
        {
          "output_type": "display_data",
          "data": {
            "text/html": [
              "<strong>g:</strong> 11.5738107817485"
            ],
            "text/markdown": "**g:** 11.5738107817485",
            "text/latex": "\\textbf{g:} 11.5738107817485",
            "text/plain": [
              "       g \n",
              "11.57381 \n",
              "attr(,\"pkgname\")\n",
              "[1] \"nlsr\""
            ]
          },
          "metadata": {}
        },
        {
          "output_type": "display_data",
          "data": {
            "text/html": [
              "<strong>g:</strong> 14.6836919873496"
            ],
            "text/markdown": "**g:** 14.6836919873496",
            "text/latex": "\\textbf{g:} 14.6836919873496",
            "text/plain": [
              "       g \n",
              "14.68369 \n",
              "attr(,\"pkgname\")\n",
              "[1] \"nlsr\""
            ]
          },
          "metadata": {}
        },
        {
          "output_type": "display_data",
          "data": {
            "text/html": [
              "<strong>g:</strong> 12.937413229191"
            ],
            "text/markdown": "**g:** 12.937413229191",
            "text/latex": "\\textbf{g:} 12.937413229191",
            "text/plain": [
              "       g \n",
              "12.93741 \n",
              "attr(,\"pkgname\")\n",
              "[1] \"nlsr\""
            ]
          },
          "metadata": {}
        }
      ]
    },
    {
      "cell_type": "code",
      "source": [
        "ancestry_df = read.csv(\"ADMIXTURE_ancestries_fractions_1_.tsv\", header = TRUE, sep = \"\\t\", dec = \".\")\n",
        "cleaned_df <- ancestry_df[-c(1, 2, 8)]\n",
        "cleaned_df[nrow(ancestry_df) + 1,] = c(0, 0, 0, 0, 1, 0)\n",
        "cleaned_df = cleaned_df[,c(1,6,2,5,4,3)]\n",
        "example_props <- cleaned_df"
      ],
      "metadata": {
        "id": "ksNatMNeZjP5"
      },
      "execution_count": null,
      "outputs": []
    },
    {
      "cell_type": "code",
      "source": [
        "example_props <- cleaned_df"
      ],
      "metadata": {
        "id": "vTnII7nfaLPZ"
      },
      "execution_count": null,
      "outputs": []
    },
    {
      "cell_type": "markdown",
      "source": [
        "##Helper Functions"
      ],
      "metadata": {
        "id": "K7KiFFb1f8zh"
      }
    },
    {
      "cell_type": "code",
      "source": [
        "#' Pairwise distances between markers\n",
        "#'\n",
        "#' Helper function for test statistic simulation.\n",
        "#' Get distances between consecutive markers.\n",
        "#'\n",
        "#' @param map data frame with m rows and 2 columns ('chr' containing chromosome number and 'cM' containing genetic position in centimorgans), where m = no. markers\n",
        "#'\n",
        "#' @return Numeric vector (length m-1) of distances between markers.\n",
        "get_deltas <- function(map){\n",
        "  # check for missing values\n",
        "  if(sum(is.na(map$cM))>0) stop('Missing values in cM column')\n",
        "  if(sum(is.na(map$chr))>0) stop('Missing values in chr column')\n",
        "\n",
        "  # initial distance between adjacent markers\n",
        "  deltas <- diff(map$cM)\n",
        "\n",
        "  # set distance between chromosomes to 100000 (infty)\n",
        "  chr_starts <- sapply(1:22, function(x) which(map$chr==x)[1])\n",
        "  deltas[chr_starts-1] <- 100000\n",
        "\n",
        "  # return deltas\n",
        "  return(deltas)\n",
        "}\n",
        "\n",
        "#' Helper Function: Calculate Scalars\n",
        "#'\n",
        "#' Helper function for test statistic simulation.\n",
        "#' Calculate scalars needed for test stat simulation.\n",
        "#'\n",
        "#' @param deltas vector of distances between consecutive markers\n",
        "#' @param g the generations since admixture.\n",
        "#'\n",
        "#' @return List of two vectors with two sets of scalars.\n",
        "get_ab <- function(deltas,g){\n",
        "  ## calculate a_{i,j}, b_{i,j} from deltas\n",
        "  beta <- 0.01*g\n",
        "  a <- exp(-beta*deltas)\n",
        "  b <- sqrt(1-exp(-2*beta*deltas))\n",
        "  return(list(a=a,b=b))\n",
        "}\n",
        "\n",
        "#' Expected correlation: one locus, square root\n",
        "#'\n",
        "#' Helper function for test statistic simulation.\n",
        "#' Square root of expected correlation matrix at one locus.\n",
        "#'\n",
        "#' @param ep vector of length K (K = no. ancestral pops) containg expected/average admixture proportions\n",
        "#'\n",
        "#' @return Matrix with K rows and K-1 columns.\n",
        "get_L <- function(ep){\n",
        "  # number of ancestral pops\n",
        "  K <- length(ep)\n",
        "  # get correlation matrix\n",
        "  sig <- get_sigma(ep=ep)\n",
        "  # get square root\n",
        "  if(K==2){\n",
        "    # hardcode\n",
        "    L <- matrix(c(1,-1),nrow=2)\n",
        "  } else if(K==3){\n",
        "    # hardcode\n",
        "    L <- matrix(c(1,0,\n",
        "                  sig[1,2],sqrt(1-sig[1,2]^2),\n",
        "                  sig[1,3],-sqrt(1-sig[1,3]^2)),\n",
        "                byrow=T,nrow=3)\n",
        "  } else{\n",
        "    # check for mgcv package\n",
        "    if(requireNamespace(\"mgcv\", quietly = TRUE)){\n",
        "      # mroot\n",
        "      L <- mgcv::mroot(sig,rank=K-1,method='chol')\n",
        "    } else{\n",
        "      L <- NULL\n",
        "      cat('Please install package \\\"mgcv\\\".')\n",
        "    }\n",
        "  }\n",
        "  return(L)\n",
        "}\n",
        "\n",
        "#' Expected correlation: one locus, all ancestries\n",
        "#'\n",
        "#' Helper function for test statistic simulation.\n",
        "#' Calculate expected correlation at single locus\n",
        "#' for all pairs of ancestries.\n",
        "#'\n",
        "#' @param ep vector of length K (K = no. ancestral pops) containg expected/average admixture proportions\n",
        "#'\n",
        "#' @return Correlation matrix.\n",
        "get_sigma <- function(ep){\n",
        "  # get offdiagonal elements\n",
        "  sigma <- outer(ep,ep,get_sigma_ij)\n",
        "  # replace diagonal elements with 1\n",
        "  diag(sigma) <- 1\n",
        "  # return correlation matrix\n",
        "  return(sigma)\n",
        "}\n",
        "\n",
        "#' Expected correlation: one locus, one pair of ancestries\n",
        "#'\n",
        "#' Helper function for test statistic simulation.\n",
        "#' Calculate expected correlation at single locus\n",
        "#' for a single pair of ancestries.\n",
        "#'\n",
        "#' @param ep1,ep2 expected (average) admixture proportion for two ancestral populations\n",
        "#'\n",
        "#' @return Single number (the correlation).\n",
        "get_sigma_ij <- function(ep1,ep2){\n",
        "  -ep1*ep2/sqrt(ep1*(1-ep1)*ep2*(1-ep2))\n",
        "}\n",
        "\n",
        "#' Helper Function: Calculate Quantile\n",
        "#'\n",
        "#' Helper function for test statistic simulation.\n",
        "#' Get upper alpha quantile of vector.\n",
        "#'\n",
        "#' @param t vector of test statistics\n",
        "#' @param alpha the level for family-wise error rate control; default is 0.05.\n",
        "#'\n",
        "#' @return Single number.\n",
        "upper_alpha <- function(t,alpha){\n",
        "  ## Get upper alpha percentile\n",
        "  quantile(t,prob=1-alpha)\n",
        "}"
      ],
      "metadata": {
        "id": "NVMy3gAPfGYk"
      },
      "execution_count": null,
      "outputs": []
    },
    {
      "cell_type": "code",
      "source": [
        " #' Simulate Admixture Mapping Test Statistics\n",
        "#'\n",
        "#' Simulate admixture mapping test statistics (one time)\n",
        "#' from their joint asymptotic distribution under the null\n",
        "#' (see Grinde et al., 2018).\n",
        "#'\n",
        "#' @param m the number of markers.\n",
        "#' @param K the number of ancestral populations\n",
        "#' @param as vector of scalars (length m) based on generations since admixture and distance between markers.\n",
        "#' @param bs vector of scalars (length m) based on generations since admixture and distance between markers.\n",
        "#' @param L matrix (K x K-1) that is square root of correlation matrix at single locus\n",
        "#'\n",
        "#' @return A single nummber indicating the largest simulated test statistic.\n",
        "#'\n",
        "#' @examples\n",
        "#' simstat_once(m = 2, K = 2, as = example_ab$a, bs = example_ab$b, L = example_L)\n",
        "#'\n",
        "#' @importFrom stats rnorm\n",
        "#'\n",
        "#' @export\n",
        "simstat_once <- function(m,K,as,bs,L){\n",
        "  # initialize max\n",
        "  Zmax <- 0\n",
        "\n",
        "  # generate all random normals that we'll need\n",
        "  norms <- rnorm(m*(K-1),0,1)\n",
        "\n",
        "  # generate indices for grabbing normals\n",
        "  starts <- seq(from=1, to=(K-1)*m, by=K-1)\n",
        "  ends <- seq(from=K-1, to=(K-1)*m, by=K-1)\n",
        "\n",
        "  # get stats at first marker\n",
        "  Zlast <- L %*% norms[(starts[1]):(ends[1])]\n",
        "\n",
        "  # loop through remaining markers\n",
        "  for(i in 2:m){\n",
        "    # generate stats at marker i\n",
        "    Znew <- as[i] * Zlast +\n",
        "      bs[i] * L %*% norms[(starts[i]):(ends[i])]\n",
        "    # check if we have a new max\n",
        "    if(max(abs(Znew)) > Zmax) Zmax <- max(abs(Znew))\n",
        "    # update Zlast for next marker\n",
        "    Zlast <- Znew\n",
        "  }\n",
        "\n",
        "  # return max\n",
        "  return(Zmax)\n",
        "}"
      ],
      "metadata": {
        "id": "_yQd8p4JfvbP"
      },
      "execution_count": null,
      "outputs": []
    },
    {
      "cell_type": "code",
      "source": [
        "#' Significance Threshold Estimation for Admixture Mapping using Test Statistic Simulation\n",
        "#'\n",
        "#' Compute genome-wide significance (test statistic or p-value) threshold for admixture\n",
        "#' mapping by simulating admixture mapping test statistics from their joint asymptotic\n",
        "#' distribution under the null (see Grinde et al., 2018) and finding\n",
        "#' the threshold that controls the empirical family-wise error rate.\n",
        "#'\n",
        "#' @param g the generations since admixture.\n",
        "#' @param map data frame with m rows and at least 2 columns ('chr' containing chromosome number and 'cM' containing genetic position in centimorgans), where m = no. markers\n",
        "#' @param props data frame (n x K) of admixture proportions, where n = no. individuals and K = no. ancestral populations\n",
        "#' @param nreps the number of repetitions for the simulation study; default is 10000.\n",
        "#' @param alpha the level for family-wise error rate control; default is 0.05.\n",
        "#' @param type the type of threshold that should be returned: \\code{\"stat\"} for test statistic or \\code{\"pval\"} for p-value; defaults to pval.\n",
        "#'\n",
        "#' @return A single number indicating the estimated significance threshold (either test statistic or p-value).\n",
        "#'\n",
        "#' @examples\n",
        "#' get_thresh_simstat(g = 6, map = example_map, props = example_props, nreps = 10)\n",
        "#' get_thresh_simstat(g = 6, map = example_map, props = example_props, nreps = 10, type=\"stat\")\n",
        "#'\n",
        "#' @importFrom stats quantile pnorm\n",
        "#'\n",
        "#' @export\n",
        "\n",
        "get_thresh_simstat <- function(g, map, props, nreps=10000, alpha=0.05, type=\"pval\"){\n",
        "  # get distances between adjacent markers\n",
        "  dlt <- c(0,get_deltas(map)) # length m\n",
        "\n",
        "  # pre-calculate constants for test stat sim (a's and b's)\n",
        "  ab <- get_ab(dlt,g)\n",
        "\n",
        "  # get average admixture proportions\n",
        "  avg_props <- apply(props,2,mean,na.rm=T)\n",
        "\n",
        "  # calculate the matrix L\n",
        "  L <- get_L(avg_props) # could condense with calculating avg\n",
        "\n",
        "  # simulate test stats nreps times\n",
        "  max_stats <- replicate(nreps, simstat_once(m = nrow(map), K = ncol(props), as = ab$a, bs = ab$b, L = L))\n",
        "\n",
        "  # get upper alpha quantile\n",
        "  zstar <- upper_alpha(max_stats, alpha)\n",
        "\n",
        "  # get 95% bootstrap CI for threshold (5k reps)\n",
        "  if (requireNamespace(\"bootstrap\", quietly = TRUE)) {\n",
        "    z_ci <- quantile(bootstrap::bootstrap(max_stats, nboot = 5000, theta = upper_alpha, alpha)$thetastar, c(0.025,0.975))\n",
        "  } else{\n",
        "    z_ci <-c(NA,NA)\n",
        "    cat('Install package \\\"bootstrap\\\" to get confidence interval. \\n')\n",
        "  }\n",
        "\n",
        "  # return threshold\n",
        "  if(type == \"stat\"){\n",
        "    thresh <- zstar\n",
        "    thresh_ci <- z_ci\n",
        "  } else if(type == \"pval\"){\n",
        "    thresh <- 2 * pnorm(zstar, lower.tail = F)\n",
        "    thresh_ci <- 2 * pnorm(z_ci, lower.tail = F)\n",
        "  } else{\n",
        "    cat(\"Please specify type = 'stat' or type = 'pval' \\n\")\n",
        "  }\n",
        "  return(list(threshold = thresh, ci = thresh_ci))\n",
        "}"
      ],
      "metadata": {
        "id": "u2AylxOibOG1"
      },
      "execution_count": null,
      "outputs": []
    },
    {
      "cell_type": "code",
      "source": [
        "example_map <- read.table(file = 'map_file.tsv', sep = '\\t', header = TRUE)"
      ],
      "metadata": {
        "id": "9HpZuvZWee5M"
      },
      "execution_count": null,
      "outputs": []
    },
    {
      "cell_type": "code",
      "source": [
        "g: 11.8544748989489\n",
        "g: 12.3560136446421\n",
        "g: 10.7720488583112"
      ],
      "metadata": {
        "colab": {
          "base_uri": "https://localhost:8080/",
          "height": 99
        },
        "id": "MPn1nPjHzrN8",
        "outputId": "d6d52b81-8649-42eb-fa48-1ec2abeb62dc"
      },
      "execution_count": null,
      "outputs": [
        {
          "output_type": "error",
          "ename": "ERROR",
          "evalue": "ignored",
          "traceback": [
            "Error in eval(expr, envir, enclos): object 'g' not found\nTraceback:\n"
          ]
        }
      ]
    },
    {
      "cell_type": "code",
      "source": [
        "get_thresh_simstat(g = 11.3568297666691, map = example_map, props = example_props)"
      ],
      "metadata": {
        "colab": {
          "base_uri": "https://localhost:8080/",
          "height": 34
        },
        "id": "6C2NFr7Ee1zc",
        "outputId": "f78d30cb-893f-478b-fc65-6be8920500c4"
      },
      "execution_count": null,
      "outputs": [
        {
          "output_type": "display_data",
          "data": {
            "text/html": [
              "5.79425613184336"
            ],
            "text/markdown": "5.79425613184336",
            "text/latex": "5.79425613184336",
            "text/plain": [
              "[1] 5.794256"
            ]
          },
          "metadata": {}
        }
      ]
    },
    {
      "cell_type": "code",
      "source": [
        ""
      ],
      "metadata": {
        "id": "TDMgKt0ICUai"
      },
      "execution_count": null,
      "outputs": []
    },
    {
      "cell_type": "code",
      "source": [
        ""
      ],
      "metadata": {
        "id": "Gw3wNeeABRpn"
      },
      "execution_count": 2,
      "outputs": []
    },
    {
      "cell_type": "code",
      "source": [
        ""
      ],
      "metadata": {
        "id": "4ZfJXzqPCgvs"
      },
      "execution_count": null,
      "outputs": []
    },
    {
      "cell_type": "code",
      "source": [
        ""
      ],
      "metadata": {
        "id": "XjP_xh2uEEsG"
      },
      "execution_count": 3,
      "outputs": []
    },
    {
      "cell_type": "code",
      "source": [
        ""
      ],
      "metadata": {
        "id": "z5vYb1JAEFPW"
      },
      "execution_count": null,
      "outputs": []
    }
  ],
  "metadata": {
    "kernelspec": {
      "display_name": "R",
      "language": "R",
      "name": "ir"
    },
    "language_info": {
      "codemirror_mode": "r",
      "file_extension": ".r",
      "mimetype": "text/x-r-source",
      "name": "R",
      "pygments_lexer": "r",
      "version": "3.5.1"
    },
    "colab": {
      "name": "run_steam (1).ipynb",
      "provenance": [],
      "collapsed_sections": []
    }
  },
  "nbformat": 4,
  "nbformat_minor": 0
}