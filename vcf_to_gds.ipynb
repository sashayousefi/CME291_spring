{
 "cells": [
  {
   "cell_type": "code",
   "execution_count": 2,
   "metadata": {},
   "outputs": [
    {
     "name": "stderr",
     "output_type": "stream",
     "text": [
      "Warning message in library(package, lib.loc = lib.loc, character.only = TRUE, logical.return = TRUE, :\n",
      "“there is no package called ‘BiocManager’”\n",
      "Installing package into ‘/home/users/syousefi/R/x86_64-pc-linux-gnu-library/3.5’\n",
      "(as ‘lib’ is unspecified)\n",
      "\n",
      "'getOption(\"repos\")' replaces Bioconductor standard repositories, see\n",
      "'?repositories' for details\n",
      "\n",
      "replacement repositories:\n",
      "    CRAN: https://cran.r-project.org\n",
      "\n",
      "\n",
      "Bioconductor version 3.8 (BiocManager 1.30.17), R 3.5.1 (2018-07-02)\n",
      "\n",
      "Installing package(s) 'BiocVersion', 'SeqArray'\n",
      "\n",
      "also installing the dependencies ‘zlibbioc’, ‘bitops’, ‘BiocGenerics’, ‘XVector’, ‘RCurl’, ‘GenomeInfoDbData’, ‘gdsfmt’, ‘IRanges’, ‘GenomicRanges’, ‘GenomeInfoDb’, ‘Biostrings’, ‘S4Vectors’\n",
      "\n",
      "\n",
      "Installation paths not writeable, unable to update packages\n",
      "  path: /share/software/user/open/R/3.5.1/lib64/R/library\n",
      "  packages:\n",
      "    boot, class, cluster, codetools, cpp11, foreach, iterators, KernSmooth,\n",
      "    lattice, MASS, Matrix, nlme, nnet, Rcpp, rpart, spatial, survival, wk\n",
      "\n"
     ]
    }
   ],
   "source": [
    "if (!require(\"BiocManager\", quietly = TRUE))\n",
    "    install.packages(\"BiocManager\")\n",
    "\n",
    "BiocManager::install(\"SeqArray\")"
   ]
  },
  {
   "cell_type": "code",
   "execution_count": 1,
   "metadata": {},
   "outputs": [
    {
     "name": "stderr",
     "output_type": "stream",
     "text": [
      "Loading required package: gdsfmt\n",
      "\n"
     ]
    }
   ],
   "source": [
    "library(SeqArray)\n",
    "\n",
    "library(Rcpp)"
   ]
  },
  {
   "cell_type": "code",
   "execution_count": 2,
   "metadata": {
    "collapsed": true,
    "tags": []
   },
   "outputs": [],
   "source": [
    "for(i in seq(1, 22))\n",
    "  {\n",
    "  for(j in seq(1, 5)){\n",
    "      vcf.fn <- paste(\"vcf_files/covid_ref_chr\", i, \"_ancestry\", j, \"_rfmix\", \".vcf\", sep = \"\")\n",
    "      gds_name <- paste(\"gds_files/covid_ref_chr\", i, \"_ancestry\", j, \"_rfmix\", \".gds\", sep = \"\")\n",
    "      seqVCF2GDS(vcf.fn, gds_name, verbose = FALSE)\n",
    "      }\n",
    "  }"
   ]
  },
  {
   "cell_type": "code",
   "execution_count": null,
   "metadata": {
    "collapsed": true,
    "tags": []
   },
   "outputs": [],
   "source": []
  },
  {
   "cell_type": "code",
   "execution_count": null,
   "metadata": {
    "collapsed": true,
    "tags": []
   },
   "outputs": [],
   "source": []
  },
  {
   "cell_type": "code",
   "execution_count": null,
   "metadata": {
    "collapsed": true,
    "tags": []
   },
   "outputs": [],
   "source": []
  }
 ],
 "metadata": {
  "kernelspec": {
   "display_name": "R",
   "language": "R",
   "name": "ir"
  },
  "language_info": {
   "codemirror_mode": "r",
   "file_extension": ".r",
   "mimetype": "text/x-r-source",
   "name": "R",
   "pygments_lexer": "r",
   "version": "3.5.1"
  }
 },
 "nbformat": 4,
 "nbformat_minor": 5
}
